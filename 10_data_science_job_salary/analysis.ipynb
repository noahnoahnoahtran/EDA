{
 "cells": [
  {
   "cell_type": "markdown",
   "id": "988719bb",
   "metadata": {},
   "source": [
    "# **1. Import libraries**"
   ]
  },
  {
   "cell_type": "code",
   "execution_count": 1,
   "id": "738df1bf",
   "metadata": {},
   "outputs": [
    {
     "name": "stderr",
     "output_type": "stream",
     "text": [
      "c:\\Users\\ACER\\ANA\\anaconda3\\Lib\\site-packages\\pandas\\core\\arrays\\masked.py:60: UserWarning: Pandas requires version '1.3.6' or newer of 'bottleneck' (version '1.3.5' currently installed).\n",
      "  from pandas.core import (\n"
     ]
    }
   ],
   "source": [
    "import numpy as np\n",
    "import pandas as pd\n",
    "import matplotlib.pyplot as plt\n",
    "import seaborn as sns\n",
    "import plotly.express as px\n",
    "import plotly.graph_objects as go\n",
    "from sklearn.preprocessing import LabelEncoder\n",
    "\n",
    "import warnings\n",
    "warnings.filterwarnings(\"ignore\")\n"
   ]
  },
  {
   "cell_type": "markdown",
   "id": "0917e8c9",
   "metadata": {},
   "source": [
    "# **2. Load dataset**"
   ]
  },
  {
   "cell_type": "code",
   "execution_count": null,
   "id": "32ea36c0",
   "metadata": {},
   "outputs": [],
   "source": [
    "data = pd.read_csv(\"dataset/ds_salaries.csv\", index_col=0)"
   ]
  },
  {
   "cell_type": "markdown",
   "id": "8c7a0581",
   "metadata": {},
   "source": [
    "# **3. Basic exploration**"
   ]
  },
  {
   "cell_type": "code",
   "execution_count": null,
   "id": "cf2ae158",
   "metadata": {},
   "outputs": [],
   "source": [
    "print(f\"Shape of the dataset: {data.shape}\")\n",
    "print(f\"\\nGlimpse of the dataset:\")\n",
    "data.head().style.set_properties(**{\"background-color\": \"#FDD667\",\"color\":\"black\",\"border\": \"1.5px solid black\"})"
   ]
  },
  {
   "cell_type": "code",
   "execution_count": null,
   "id": "cbfbdb2f",
   "metadata": {},
   "outputs": [],
   "source": [
    "print(f\"Information of the dataset:\\n\")\n",
    "print(data.info())"
   ]
  }
 ],
 "metadata": {
  "kernelspec": {
   "display_name": "base",
   "language": "python",
   "name": "python3"
  },
  "language_info": {
   "codemirror_mode": {
    "name": "ipython",
    "version": 3
   },
   "file_extension": ".py",
   "mimetype": "text/x-python",
   "name": "python",
   "nbconvert_exporter": "python",
   "pygments_lexer": "ipython3",
   "version": "3.11.4"
  }
 },
 "nbformat": 4,
 "nbformat_minor": 5
}
