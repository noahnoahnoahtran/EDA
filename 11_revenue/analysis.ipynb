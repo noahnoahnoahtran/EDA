{
 "cells": [
  {
   "cell_type": "code",
   "execution_count": 39,
   "id": "d661ec46",
   "metadata": {},
   "outputs": [],
   "source": [
    "import pandas as pd\n",
    "\n",
    "import warnings\n",
    "warnings.filterwarnings(\"ignore\")"
   ]
  },
  {
   "cell_type": "code",
   "execution_count": 40,
   "id": "2a0e71de",
   "metadata": {},
   "outputs": [],
   "source": [
    "pd.options.display.float_format = \"{:,.0f}\".format"
   ]
  },
  {
   "cell_type": "code",
   "execution_count": 41,
   "id": "39770e97",
   "metadata": {},
   "outputs": [],
   "source": [
    "df = pd.read_csv(\"raw_transactions.csv\")"
   ]
  },
  {
   "cell_type": "code",
   "execution_count": 42,
   "id": "9add117d",
   "metadata": {},
   "outputs": [],
   "source": [
    "df.rename(columns={\"Payment Date\": \"payment_date\", \"Personal Value\": \"personal_value\"}, inplace=True)\n",
    "df['payment_date'] = pd.to_datetime(df['payment_date'], errors=\"coerce\")"
   ]
  },
  {
   "cell_type": "code",
   "execution_count": 43,
   "id": "b5d9b8ed",
   "metadata": {},
   "outputs": [],
   "source": [
    "df[\"payment_year\"] = df[\"payment_date\"].dt.year\n",
    "df[\"payment_quarter\"] = df[\"payment_date\"].dt.to_period(\"Q\")\n",
    "df[\"payment_month\"] = df[\"payment_date\"].dt.to_period(\"M\")"
   ]
  },
  {
   "cell_type": "code",
   "execution_count": 44,
   "id": "612c77cf",
   "metadata": {},
   "outputs": [],
   "source": [
    "monthly_revenue = (\n",
    "    df.groupby([\"payment_year\", \"payment_quarter\", \"payment_month\"])[\"personal_value\"]\n",
    "    .sum()\n",
    "    .reset_index()\n",
    "    .rename(columns={\"personal_value\": \"total_revenue_vnd\"})\n",
    "    )"
   ]
  },
  {
   "cell_type": "code",
   "execution_count": 45,
   "id": "b8d619c0",
   "metadata": {},
   "outputs": [],
   "source": [
    "monthly_revenue[\"total_revenue_sgd\"] = (monthly_revenue[\"total_revenue_vnd\"] / 17905).round(2)"
   ]
  },
  {
   "cell_type": "code",
   "execution_count": 46,
   "id": "c388754d",
   "metadata": {},
   "outputs": [],
   "source": [
    "monthly_revenue.set_index([\"payment_year\", \"payment_quarter\", \"payment_month\"], inplace=True)"
   ]
  },
  {
   "cell_type": "code",
   "execution_count": 49,
   "id": "da80a4c5",
   "metadata": {},
   "outputs": [
    {
     "name": "stdout",
     "output_type": "stream",
     "text": [
      "                                            total_revenue_vnd  total_revenue_sgd\n",
      "payment_year payment_quarter payment_month                                      \n",
      "2021         2021Q3          2021-08              133,176,000              7,438\n",
      "                             2021-09              131,568,000              7,348\n",
      "             2021Q4          2021-10               38,820,500              2,168\n",
      "                             2021-11               91,724,600              5,123\n",
      "                             2021-12                4,619,000                258\n",
      "2022         2022Q1          2022-01               42,974,800              2,400\n",
      "                             2022-02               58,594,000              3,272\n",
      "                             2022-03               91,841,000              5,129\n",
      "             2022Q2          2022-04              185,826,300             10,378\n",
      "                             2022-05              184,223,000             10,289\n",
      "                             2022-06              553,107,399             30,891\n",
      "             2022Q3          2022-07              977,957,590             54,619\n",
      "                             2022-08              831,100,520             46,417\n",
      "                             2022-09              858,578,100             47,952\n",
      "             2022Q4          2022-10              621,964,300             34,737\n",
      "                             2022-11              455,760,200             25,454\n",
      "                             2022-12              378,563,500             21,143\n",
      "2023         2023Q1          2023-01              213,929,700             11,948\n",
      "                             2023-02              575,837,000             32,161\n",
      "                             2023-03              881,233,400             49,217\n",
      "             2023Q2          2023-04              967,448,500             54,032\n",
      "                             2023-05            1,755,621,019             98,052\n",
      "                             2023-06            1,743,547,784             97,378\n",
      "             2023Q3          2023-07            1,271,602,800             71,019\n",
      "                             2023-08            1,026,547,500             57,333\n",
      "                             2023-09              736,440,310             41,130\n",
      "             2023Q4          2023-10              742,855,500             41,489\n",
      "                             2023-11              580,596,000             32,426\n",
      "                             2023-12              439,570,000             24,550\n",
      "2024         2024Q1          2024-01            1,352,799,800             75,554\n",
      "                             2024-02              684,716,800             38,242\n",
      "                             2024-03            1,531,764,020             85,550\n",
      "             2024Q2          2024-04            1,033,891,986             57,743\n",
      "                             2024-05            1,873,537,500            104,638\n",
      "                             2024-06            2,292,732,683            128,050\n",
      "             2024Q3          2024-07            1,685,664,950             94,145\n",
      "                             2024-08            1,450,568,875             81,015\n",
      "                             2024-09            2,380,306,920            132,941\n",
      "             2024Q4          2024-10              926,340,519             51,736\n",
      "                             2024-11              783,512,845             43,759\n",
      "                             2024-12              684,326,663             38,220\n",
      "2025         2025Q1          2025-01            1,012,488,019             56,548\n",
      "                             2025-02            1,468,951,374             82,041\n",
      "                             2025-03            2,420,600,942            135,191\n",
      "             2025Q2          2025-04            2,343,756,002            130,900\n",
      "                             2025-05            3,893,865,813            217,474\n",
      "                             2025-06            4,431,097,782            247,478\n",
      "             2025Q3          2025-07            4,024,907,483            224,792\n",
      "                             2025-08            3,615,378,105            201,920\n",
      "                             2025-09            4,334,094,680            242,061\n",
      "             2025Q4          2025-10              952,996,407             53,225\n"
     ]
    }
   ],
   "source": [
    "print(monthly_revenue.to_string())"
   ]
  }
 ],
 "metadata": {
  "kernelspec": {
   "display_name": "base",
   "language": "python",
   "name": "python3"
  },
  "language_info": {
   "codemirror_mode": {
    "name": "ipython",
    "version": 3
   },
   "file_extension": ".py",
   "mimetype": "text/x-python",
   "name": "python",
   "nbconvert_exporter": "python",
   "pygments_lexer": "ipython3",
   "version": "3.11.4"
  }
 },
 "nbformat": 4,
 "nbformat_minor": 5
}
