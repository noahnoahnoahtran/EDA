{
 "cells": [
  {
   "cell_type": "markdown",
   "id": "000df37f",
   "metadata": {},
   "source": [
    "1. Import libraries"
   ]
  },
  {
   "cell_type": "code",
   "execution_count": 12,
   "id": "d46d7cca",
   "metadata": {},
   "outputs": [],
   "source": [
    "import numpy as np\n",
    "import pandas as pd\n",
    "import matplotlib as plt\n",
    "import seaborn as sns\n",
    "import plotly.express as px\n",
    "import plotly.graph_objects as go\n",
    "import warnings\n",
    "warnings.filterwarnings('ignore')"
   ]
  },
  {
   "cell_type": "markdown",
   "id": "1e0b339d",
   "metadata": {},
   "source": [
    "2. Load dataset"
   ]
  },
  {
   "cell_type": "code",
   "execution_count": 13,
   "id": "dfd11035",
   "metadata": {},
   "outputs": [],
   "source": [
    "df = pd.read_csv('world_population.csv')"
   ]
  },
  {
   "cell_type": "markdown",
   "id": "92198d46",
   "metadata": {},
   "source": [
    "3. Basic exploration"
   ]
  },
  {
   "cell_type": "code",
   "execution_count": 14,
   "id": "4adb9aa1",
   "metadata": {},
   "outputs": [
    {
     "name": "stdout",
     "output_type": "stream",
     "text": [
      "Shape of the dataset: (234, 17)\n"
     ]
    }
   ],
   "source": [
    "print(f'Shape of the dataset: {df.shape}')"
   ]
  },
  {
   "cell_type": "code",
   "execution_count": 15,
   "id": "736e9f6c",
   "metadata": {},
   "outputs": [
    {
     "name": "stdout",
     "output_type": "stream",
     "text": [
      "\n",
      "Glimpse of the dataset:\n"
     ]
    },
    {
     "data": {
      "text/html": [
       "<style type=\"text/css\">\n",
       "#T_e0385_row0_col0, #T_e0385_row0_col1, #T_e0385_row0_col2, #T_e0385_row0_col3, #T_e0385_row0_col4, #T_e0385_row0_col5, #T_e0385_row0_col6, #T_e0385_row0_col7, #T_e0385_row0_col8, #T_e0385_row0_col9, #T_e0385_row0_col10, #T_e0385_row0_col11, #T_e0385_row0_col12, #T_e0385_row0_col13, #T_e0385_row0_col14, #T_e0385_row0_col15, #T_e0385_row0_col16, #T_e0385_row1_col0, #T_e0385_row1_col1, #T_e0385_row1_col2, #T_e0385_row1_col3, #T_e0385_row1_col4, #T_e0385_row1_col5, #T_e0385_row1_col6, #T_e0385_row1_col7, #T_e0385_row1_col8, #T_e0385_row1_col9, #T_e0385_row1_col10, #T_e0385_row1_col11, #T_e0385_row1_col12, #T_e0385_row1_col13, #T_e0385_row1_col14, #T_e0385_row1_col15, #T_e0385_row1_col16, #T_e0385_row2_col0, #T_e0385_row2_col1, #T_e0385_row2_col2, #T_e0385_row2_col3, #T_e0385_row2_col4, #T_e0385_row2_col5, #T_e0385_row2_col6, #T_e0385_row2_col7, #T_e0385_row2_col8, #T_e0385_row2_col9, #T_e0385_row2_col10, #T_e0385_row2_col11, #T_e0385_row2_col12, #T_e0385_row2_col13, #T_e0385_row2_col14, #T_e0385_row2_col15, #T_e0385_row2_col16, #T_e0385_row3_col0, #T_e0385_row3_col1, #T_e0385_row3_col2, #T_e0385_row3_col3, #T_e0385_row3_col4, #T_e0385_row3_col5, #T_e0385_row3_col6, #T_e0385_row3_col7, #T_e0385_row3_col8, #T_e0385_row3_col9, #T_e0385_row3_col10, #T_e0385_row3_col11, #T_e0385_row3_col12, #T_e0385_row3_col13, #T_e0385_row3_col14, #T_e0385_row3_col15, #T_e0385_row3_col16, #T_e0385_row4_col0, #T_e0385_row4_col1, #T_e0385_row4_col2, #T_e0385_row4_col3, #T_e0385_row4_col4, #T_e0385_row4_col5, #T_e0385_row4_col6, #T_e0385_row4_col7, #T_e0385_row4_col8, #T_e0385_row4_col9, #T_e0385_row4_col10, #T_e0385_row4_col11, #T_e0385_row4_col12, #T_e0385_row4_col13, #T_e0385_row4_col14, #T_e0385_row4_col15, #T_e0385_row4_col16 {\n",
       "  background-color: #006837;\n",
       "  color: #e9c46a;\n",
       "  border: 1.5px solid black;\n",
       "}\n",
       "</style>\n",
       "<table id=\"T_e0385\">\n",
       "  <thead>\n",
       "    <tr>\n",
       "      <th class=\"blank level0\" >&nbsp;</th>\n",
       "      <th id=\"T_e0385_level0_col0\" class=\"col_heading level0 col0\" >Rank</th>\n",
       "      <th id=\"T_e0385_level0_col1\" class=\"col_heading level0 col1\" >CCA3</th>\n",
       "      <th id=\"T_e0385_level0_col2\" class=\"col_heading level0 col2\" >Country/Territory</th>\n",
       "      <th id=\"T_e0385_level0_col3\" class=\"col_heading level0 col3\" >Capital</th>\n",
       "      <th id=\"T_e0385_level0_col4\" class=\"col_heading level0 col4\" >Continent</th>\n",
       "      <th id=\"T_e0385_level0_col5\" class=\"col_heading level0 col5\" >2022 Population</th>\n",
       "      <th id=\"T_e0385_level0_col6\" class=\"col_heading level0 col6\" >2020 Population</th>\n",
       "      <th id=\"T_e0385_level0_col7\" class=\"col_heading level0 col7\" >2015 Population</th>\n",
       "      <th id=\"T_e0385_level0_col8\" class=\"col_heading level0 col8\" >2010 Population</th>\n",
       "      <th id=\"T_e0385_level0_col9\" class=\"col_heading level0 col9\" >2000 Population</th>\n",
       "      <th id=\"T_e0385_level0_col10\" class=\"col_heading level0 col10\" >1990 Population</th>\n",
       "      <th id=\"T_e0385_level0_col11\" class=\"col_heading level0 col11\" >1980 Population</th>\n",
       "      <th id=\"T_e0385_level0_col12\" class=\"col_heading level0 col12\" >1970 Population</th>\n",
       "      <th id=\"T_e0385_level0_col13\" class=\"col_heading level0 col13\" >Area (km²)</th>\n",
       "      <th id=\"T_e0385_level0_col14\" class=\"col_heading level0 col14\" >Density (per km²)</th>\n",
       "      <th id=\"T_e0385_level0_col15\" class=\"col_heading level0 col15\" >Growth Rate</th>\n",
       "      <th id=\"T_e0385_level0_col16\" class=\"col_heading level0 col16\" >World Population Percentage</th>\n",
       "    </tr>\n",
       "  </thead>\n",
       "  <tbody>\n",
       "    <tr>\n",
       "      <th id=\"T_e0385_level0_row0\" class=\"row_heading level0 row0\" >0</th>\n",
       "      <td id=\"T_e0385_row0_col0\" class=\"data row0 col0\" >36</td>\n",
       "      <td id=\"T_e0385_row0_col1\" class=\"data row0 col1\" >AFG</td>\n",
       "      <td id=\"T_e0385_row0_col2\" class=\"data row0 col2\" >Afghanistan</td>\n",
       "      <td id=\"T_e0385_row0_col3\" class=\"data row0 col3\" >Kabul</td>\n",
       "      <td id=\"T_e0385_row0_col4\" class=\"data row0 col4\" >Asia</td>\n",
       "      <td id=\"T_e0385_row0_col5\" class=\"data row0 col5\" >41128771</td>\n",
       "      <td id=\"T_e0385_row0_col6\" class=\"data row0 col6\" >38972230</td>\n",
       "      <td id=\"T_e0385_row0_col7\" class=\"data row0 col7\" >33753499</td>\n",
       "      <td id=\"T_e0385_row0_col8\" class=\"data row0 col8\" >28189672</td>\n",
       "      <td id=\"T_e0385_row0_col9\" class=\"data row0 col9\" >19542982</td>\n",
       "      <td id=\"T_e0385_row0_col10\" class=\"data row0 col10\" >10694796</td>\n",
       "      <td id=\"T_e0385_row0_col11\" class=\"data row0 col11\" >12486631</td>\n",
       "      <td id=\"T_e0385_row0_col12\" class=\"data row0 col12\" >10752971</td>\n",
       "      <td id=\"T_e0385_row0_col13\" class=\"data row0 col13\" >652230</td>\n",
       "      <td id=\"T_e0385_row0_col14\" class=\"data row0 col14\" >63.058700</td>\n",
       "      <td id=\"T_e0385_row0_col15\" class=\"data row0 col15\" >1.025700</td>\n",
       "      <td id=\"T_e0385_row0_col16\" class=\"data row0 col16\" >0.520000</td>\n",
       "    </tr>\n",
       "    <tr>\n",
       "      <th id=\"T_e0385_level0_row1\" class=\"row_heading level0 row1\" >1</th>\n",
       "      <td id=\"T_e0385_row1_col0\" class=\"data row1 col0\" >138</td>\n",
       "      <td id=\"T_e0385_row1_col1\" class=\"data row1 col1\" >ALB</td>\n",
       "      <td id=\"T_e0385_row1_col2\" class=\"data row1 col2\" >Albania</td>\n",
       "      <td id=\"T_e0385_row1_col3\" class=\"data row1 col3\" >Tirana</td>\n",
       "      <td id=\"T_e0385_row1_col4\" class=\"data row1 col4\" >Europe</td>\n",
       "      <td id=\"T_e0385_row1_col5\" class=\"data row1 col5\" >2842321</td>\n",
       "      <td id=\"T_e0385_row1_col6\" class=\"data row1 col6\" >2866849</td>\n",
       "      <td id=\"T_e0385_row1_col7\" class=\"data row1 col7\" >2882481</td>\n",
       "      <td id=\"T_e0385_row1_col8\" class=\"data row1 col8\" >2913399</td>\n",
       "      <td id=\"T_e0385_row1_col9\" class=\"data row1 col9\" >3182021</td>\n",
       "      <td id=\"T_e0385_row1_col10\" class=\"data row1 col10\" >3295066</td>\n",
       "      <td id=\"T_e0385_row1_col11\" class=\"data row1 col11\" >2941651</td>\n",
       "      <td id=\"T_e0385_row1_col12\" class=\"data row1 col12\" >2324731</td>\n",
       "      <td id=\"T_e0385_row1_col13\" class=\"data row1 col13\" >28748</td>\n",
       "      <td id=\"T_e0385_row1_col14\" class=\"data row1 col14\" >98.870200</td>\n",
       "      <td id=\"T_e0385_row1_col15\" class=\"data row1 col15\" >0.995700</td>\n",
       "      <td id=\"T_e0385_row1_col16\" class=\"data row1 col16\" >0.040000</td>\n",
       "    </tr>\n",
       "    <tr>\n",
       "      <th id=\"T_e0385_level0_row2\" class=\"row_heading level0 row2\" >2</th>\n",
       "      <td id=\"T_e0385_row2_col0\" class=\"data row2 col0\" >34</td>\n",
       "      <td id=\"T_e0385_row2_col1\" class=\"data row2 col1\" >DZA</td>\n",
       "      <td id=\"T_e0385_row2_col2\" class=\"data row2 col2\" >Algeria</td>\n",
       "      <td id=\"T_e0385_row2_col3\" class=\"data row2 col3\" >Algiers</td>\n",
       "      <td id=\"T_e0385_row2_col4\" class=\"data row2 col4\" >Africa</td>\n",
       "      <td id=\"T_e0385_row2_col5\" class=\"data row2 col5\" >44903225</td>\n",
       "      <td id=\"T_e0385_row2_col6\" class=\"data row2 col6\" >43451666</td>\n",
       "      <td id=\"T_e0385_row2_col7\" class=\"data row2 col7\" >39543154</td>\n",
       "      <td id=\"T_e0385_row2_col8\" class=\"data row2 col8\" >35856344</td>\n",
       "      <td id=\"T_e0385_row2_col9\" class=\"data row2 col9\" >30774621</td>\n",
       "      <td id=\"T_e0385_row2_col10\" class=\"data row2 col10\" >25518074</td>\n",
       "      <td id=\"T_e0385_row2_col11\" class=\"data row2 col11\" >18739378</td>\n",
       "      <td id=\"T_e0385_row2_col12\" class=\"data row2 col12\" >13795915</td>\n",
       "      <td id=\"T_e0385_row2_col13\" class=\"data row2 col13\" >2381741</td>\n",
       "      <td id=\"T_e0385_row2_col14\" class=\"data row2 col14\" >18.853100</td>\n",
       "      <td id=\"T_e0385_row2_col15\" class=\"data row2 col15\" >1.016400</td>\n",
       "      <td id=\"T_e0385_row2_col16\" class=\"data row2 col16\" >0.560000</td>\n",
       "    </tr>\n",
       "    <tr>\n",
       "      <th id=\"T_e0385_level0_row3\" class=\"row_heading level0 row3\" >3</th>\n",
       "      <td id=\"T_e0385_row3_col0\" class=\"data row3 col0\" >213</td>\n",
       "      <td id=\"T_e0385_row3_col1\" class=\"data row3 col1\" >ASM</td>\n",
       "      <td id=\"T_e0385_row3_col2\" class=\"data row3 col2\" >American Samoa</td>\n",
       "      <td id=\"T_e0385_row3_col3\" class=\"data row3 col3\" >Pago Pago</td>\n",
       "      <td id=\"T_e0385_row3_col4\" class=\"data row3 col4\" >Oceania</td>\n",
       "      <td id=\"T_e0385_row3_col5\" class=\"data row3 col5\" >44273</td>\n",
       "      <td id=\"T_e0385_row3_col6\" class=\"data row3 col6\" >46189</td>\n",
       "      <td id=\"T_e0385_row3_col7\" class=\"data row3 col7\" >51368</td>\n",
       "      <td id=\"T_e0385_row3_col8\" class=\"data row3 col8\" >54849</td>\n",
       "      <td id=\"T_e0385_row3_col9\" class=\"data row3 col9\" >58230</td>\n",
       "      <td id=\"T_e0385_row3_col10\" class=\"data row3 col10\" >47818</td>\n",
       "      <td id=\"T_e0385_row3_col11\" class=\"data row3 col11\" >32886</td>\n",
       "      <td id=\"T_e0385_row3_col12\" class=\"data row3 col12\" >27075</td>\n",
       "      <td id=\"T_e0385_row3_col13\" class=\"data row3 col13\" >199</td>\n",
       "      <td id=\"T_e0385_row3_col14\" class=\"data row3 col14\" >222.477400</td>\n",
       "      <td id=\"T_e0385_row3_col15\" class=\"data row3 col15\" >0.983100</td>\n",
       "      <td id=\"T_e0385_row3_col16\" class=\"data row3 col16\" >0.000000</td>\n",
       "    </tr>\n",
       "    <tr>\n",
       "      <th id=\"T_e0385_level0_row4\" class=\"row_heading level0 row4\" >4</th>\n",
       "      <td id=\"T_e0385_row4_col0\" class=\"data row4 col0\" >203</td>\n",
       "      <td id=\"T_e0385_row4_col1\" class=\"data row4 col1\" >AND</td>\n",
       "      <td id=\"T_e0385_row4_col2\" class=\"data row4 col2\" >Andorra</td>\n",
       "      <td id=\"T_e0385_row4_col3\" class=\"data row4 col3\" >Andorra la Vella</td>\n",
       "      <td id=\"T_e0385_row4_col4\" class=\"data row4 col4\" >Europe</td>\n",
       "      <td id=\"T_e0385_row4_col5\" class=\"data row4 col5\" >79824</td>\n",
       "      <td id=\"T_e0385_row4_col6\" class=\"data row4 col6\" >77700</td>\n",
       "      <td id=\"T_e0385_row4_col7\" class=\"data row4 col7\" >71746</td>\n",
       "      <td id=\"T_e0385_row4_col8\" class=\"data row4 col8\" >71519</td>\n",
       "      <td id=\"T_e0385_row4_col9\" class=\"data row4 col9\" >66097</td>\n",
       "      <td id=\"T_e0385_row4_col10\" class=\"data row4 col10\" >53569</td>\n",
       "      <td id=\"T_e0385_row4_col11\" class=\"data row4 col11\" >35611</td>\n",
       "      <td id=\"T_e0385_row4_col12\" class=\"data row4 col12\" >19860</td>\n",
       "      <td id=\"T_e0385_row4_col13\" class=\"data row4 col13\" >468</td>\n",
       "      <td id=\"T_e0385_row4_col14\" class=\"data row4 col14\" >170.564100</td>\n",
       "      <td id=\"T_e0385_row4_col15\" class=\"data row4 col15\" >1.010000</td>\n",
       "      <td id=\"T_e0385_row4_col16\" class=\"data row4 col16\" >0.000000</td>\n",
       "    </tr>\n",
       "  </tbody>\n",
       "</table>\n"
      ],
      "text/plain": [
       "<pandas.io.formats.style.Styler at 0x247489e4dd0>"
      ]
     },
     "execution_count": 15,
     "metadata": {},
     "output_type": "execute_result"
    }
   ],
   "source": [
    "print(f'\\nGlimpse of the dataset:')\n",
    "df.head().style.set_properties(**{'background-color': '#006837', 'color': '#e9c46a', 'border': '1.5px solid black'})"
   ]
  },
  {
   "cell_type": "code",
   "execution_count": 16,
   "id": "e537e34f",
   "metadata": {},
   "outputs": [
    {
     "name": "stdout",
     "output_type": "stream",
     "text": [
      "Information of the dataset:\n",
      "\n",
      "<class 'pandas.core.frame.DataFrame'>\n",
      "RangeIndex: 234 entries, 0 to 233\n",
      "Data columns (total 17 columns):\n",
      " #   Column                       Non-Null Count  Dtype  \n",
      "---  ------                       --------------  -----  \n",
      " 0   Rank                         234 non-null    int64  \n",
      " 1   CCA3                         234 non-null    object \n",
      " 2   Country/Territory            234 non-null    object \n",
      " 3   Capital                      234 non-null    object \n",
      " 4   Continent                    234 non-null    object \n",
      " 5   2022 Population              234 non-null    int64  \n",
      " 6   2020 Population              234 non-null    int64  \n",
      " 7   2015 Population              234 non-null    int64  \n",
      " 8   2010 Population              234 non-null    int64  \n",
      " 9   2000 Population              234 non-null    int64  \n",
      " 10  1990 Population              234 non-null    int64  \n",
      " 11  1980 Population              234 non-null    int64  \n",
      " 12  1970 Population              234 non-null    int64  \n",
      " 13  Area (km²)                   234 non-null    int64  \n",
      " 14  Density (per km²)            234 non-null    float64\n",
      " 15  Growth Rate                  234 non-null    float64\n",
      " 16  World Population Percentage  234 non-null    float64\n",
      "dtypes: float64(3), int64(10), object(4)\n",
      "memory usage: 31.2+ KB\n",
      "None\n"
     ]
    }
   ],
   "source": [
    "print(f'Information of the dataset:\\n')\n",
    "print(df.info())"
   ]
  },
  {
   "cell_type": "code",
   "execution_count": 17,
   "id": "9a7e9bc7",
   "metadata": {},
   "outputs": [
    {
     "name": "stdout",
     "output_type": "stream",
     "text": [
      "Summary of the dataset:\n"
     ]
    },
    {
     "data": {
      "text/html": [
       "<style type=\"text/css\">\n",
       "#T_ad039_row0_col0, #T_ad039_row0_col1, #T_ad039_row0_col2, #T_ad039_row0_col3, #T_ad039_row0_col4, #T_ad039_row0_col5, #T_ad039_row0_col6, #T_ad039_row0_col7, #T_ad039_row0_col8, #T_ad039_row0_col9, #T_ad039_row0_col10, #T_ad039_row0_col11, #T_ad039_row0_col12, #T_ad039_row1_col0, #T_ad039_row1_col1, #T_ad039_row1_col2, #T_ad039_row1_col3, #T_ad039_row1_col4, #T_ad039_row1_col5, #T_ad039_row1_col6, #T_ad039_row1_col7, #T_ad039_row1_col8, #T_ad039_row1_col9, #T_ad039_row1_col10, #T_ad039_row1_col11, #T_ad039_row1_col12, #T_ad039_row2_col0, #T_ad039_row2_col1, #T_ad039_row2_col2, #T_ad039_row2_col3, #T_ad039_row2_col4, #T_ad039_row2_col5, #T_ad039_row2_col6, #T_ad039_row2_col7, #T_ad039_row2_col8, #T_ad039_row2_col9, #T_ad039_row2_col10, #T_ad039_row2_col11, #T_ad039_row2_col12, #T_ad039_row3_col0, #T_ad039_row3_col1, #T_ad039_row3_col2, #T_ad039_row3_col3, #T_ad039_row3_col4, #T_ad039_row3_col5, #T_ad039_row3_col6, #T_ad039_row3_col7, #T_ad039_row3_col8, #T_ad039_row3_col9, #T_ad039_row3_col10, #T_ad039_row3_col11, #T_ad039_row3_col12, #T_ad039_row4_col0, #T_ad039_row4_col1, #T_ad039_row4_col2, #T_ad039_row4_col3, #T_ad039_row4_col4, #T_ad039_row4_col5, #T_ad039_row4_col6, #T_ad039_row4_col7, #T_ad039_row4_col8, #T_ad039_row4_col9, #T_ad039_row4_col10, #T_ad039_row4_col11, #T_ad039_row4_col12, #T_ad039_row5_col0, #T_ad039_row5_col1, #T_ad039_row5_col2, #T_ad039_row5_col3, #T_ad039_row5_col4, #T_ad039_row5_col5, #T_ad039_row5_col6, #T_ad039_row5_col7, #T_ad039_row5_col8, #T_ad039_row5_col9, #T_ad039_row5_col10, #T_ad039_row5_col11, #T_ad039_row5_col12, #T_ad039_row6_col0, #T_ad039_row6_col1, #T_ad039_row6_col2, #T_ad039_row6_col3, #T_ad039_row6_col4, #T_ad039_row6_col5, #T_ad039_row6_col6, #T_ad039_row6_col7, #T_ad039_row6_col8, #T_ad039_row6_col9, #T_ad039_row6_col10, #T_ad039_row6_col11, #T_ad039_row6_col12, #T_ad039_row7_col0, #T_ad039_row7_col1, #T_ad039_row7_col2, #T_ad039_row7_col3, #T_ad039_row7_col4, #T_ad039_row7_col5, #T_ad039_row7_col6, #T_ad039_row7_col7, #T_ad039_row7_col8, #T_ad039_row7_col9, #T_ad039_row7_col10, #T_ad039_row7_col11, #T_ad039_row7_col12 {\n",
       "  background-color: #006837;\n",
       "  color: #e9c46a;\n",
       "  border: 1.5px solid black;\n",
       "}\n",
       "</style>\n",
       "<table id=\"T_ad039\">\n",
       "  <thead>\n",
       "    <tr>\n",
       "      <th class=\"blank level0\" >&nbsp;</th>\n",
       "      <th id=\"T_ad039_level0_col0\" class=\"col_heading level0 col0\" >Rank</th>\n",
       "      <th id=\"T_ad039_level0_col1\" class=\"col_heading level0 col1\" >2022 Population</th>\n",
       "      <th id=\"T_ad039_level0_col2\" class=\"col_heading level0 col2\" >2020 Population</th>\n",
       "      <th id=\"T_ad039_level0_col3\" class=\"col_heading level0 col3\" >2015 Population</th>\n",
       "      <th id=\"T_ad039_level0_col4\" class=\"col_heading level0 col4\" >2010 Population</th>\n",
       "      <th id=\"T_ad039_level0_col5\" class=\"col_heading level0 col5\" >2000 Population</th>\n",
       "      <th id=\"T_ad039_level0_col6\" class=\"col_heading level0 col6\" >1990 Population</th>\n",
       "      <th id=\"T_ad039_level0_col7\" class=\"col_heading level0 col7\" >1980 Population</th>\n",
       "      <th id=\"T_ad039_level0_col8\" class=\"col_heading level0 col8\" >1970 Population</th>\n",
       "      <th id=\"T_ad039_level0_col9\" class=\"col_heading level0 col9\" >Area (km²)</th>\n",
       "      <th id=\"T_ad039_level0_col10\" class=\"col_heading level0 col10\" >Density (per km²)</th>\n",
       "      <th id=\"T_ad039_level0_col11\" class=\"col_heading level0 col11\" >Growth Rate</th>\n",
       "      <th id=\"T_ad039_level0_col12\" class=\"col_heading level0 col12\" >World Population Percentage</th>\n",
       "    </tr>\n",
       "  </thead>\n",
       "  <tbody>\n",
       "    <tr>\n",
       "      <th id=\"T_ad039_level0_row0\" class=\"row_heading level0 row0\" >count</th>\n",
       "      <td id=\"T_ad039_row0_col0\" class=\"data row0 col0\" >234.000000</td>\n",
       "      <td id=\"T_ad039_row0_col1\" class=\"data row0 col1\" >234.000000</td>\n",
       "      <td id=\"T_ad039_row0_col2\" class=\"data row0 col2\" >234.000000</td>\n",
       "      <td id=\"T_ad039_row0_col3\" class=\"data row0 col3\" >234.000000</td>\n",
       "      <td id=\"T_ad039_row0_col4\" class=\"data row0 col4\" >234.000000</td>\n",
       "      <td id=\"T_ad039_row0_col5\" class=\"data row0 col5\" >234.000000</td>\n",
       "      <td id=\"T_ad039_row0_col6\" class=\"data row0 col6\" >234.000000</td>\n",
       "      <td id=\"T_ad039_row0_col7\" class=\"data row0 col7\" >234.000000</td>\n",
       "      <td id=\"T_ad039_row0_col8\" class=\"data row0 col8\" >234.000000</td>\n",
       "      <td id=\"T_ad039_row0_col9\" class=\"data row0 col9\" >234.000000</td>\n",
       "      <td id=\"T_ad039_row0_col10\" class=\"data row0 col10\" >234.000000</td>\n",
       "      <td id=\"T_ad039_row0_col11\" class=\"data row0 col11\" >234.000000</td>\n",
       "      <td id=\"T_ad039_row0_col12\" class=\"data row0 col12\" >234.000000</td>\n",
       "    </tr>\n",
       "    <tr>\n",
       "      <th id=\"T_ad039_level0_row1\" class=\"row_heading level0 row1\" >mean</th>\n",
       "      <td id=\"T_ad039_row1_col0\" class=\"data row1 col0\" >117.500000</td>\n",
       "      <td id=\"T_ad039_row1_col1\" class=\"data row1 col1\" >34074414.709402</td>\n",
       "      <td id=\"T_ad039_row1_col2\" class=\"data row1 col2\" >33501070.952991</td>\n",
       "      <td id=\"T_ad039_row1_col3\" class=\"data row1 col3\" >31729956.243590</td>\n",
       "      <td id=\"T_ad039_row1_col4\" class=\"data row1 col4\" >29845235.034188</td>\n",
       "      <td id=\"T_ad039_row1_col5\" class=\"data row1 col5\" >26269468.816239</td>\n",
       "      <td id=\"T_ad039_row1_col6\" class=\"data row1 col6\" >22710220.790598</td>\n",
       "      <td id=\"T_ad039_row1_col7\" class=\"data row1 col7\" >18984616.970085</td>\n",
       "      <td id=\"T_ad039_row1_col8\" class=\"data row1 col8\" >15786908.807692</td>\n",
       "      <td id=\"T_ad039_row1_col9\" class=\"data row1 col9\" >581449.384615</td>\n",
       "      <td id=\"T_ad039_row1_col10\" class=\"data row1 col10\" >452.127044</td>\n",
       "      <td id=\"T_ad039_row1_col11\" class=\"data row1 col11\" >1.009577</td>\n",
       "      <td id=\"T_ad039_row1_col12\" class=\"data row1 col12\" >0.427051</td>\n",
       "    </tr>\n",
       "    <tr>\n",
       "      <th id=\"T_ad039_level0_row2\" class=\"row_heading level0 row2\" >std</th>\n",
       "      <td id=\"T_ad039_row2_col0\" class=\"data row2 col0\" >67.694165</td>\n",
       "      <td id=\"T_ad039_row2_col1\" class=\"data row2 col1\" >136766424.804763</td>\n",
       "      <td id=\"T_ad039_row2_col2\" class=\"data row2 col2\" >135589876.924439</td>\n",
       "      <td id=\"T_ad039_row2_col3\" class=\"data row2 col3\" >130404992.751760</td>\n",
       "      <td id=\"T_ad039_row2_col4\" class=\"data row2 col4\" >124218487.632998</td>\n",
       "      <td id=\"T_ad039_row2_col5\" class=\"data row2 col5\" >111698206.719070</td>\n",
       "      <td id=\"T_ad039_row2_col6\" class=\"data row2 col6\" >97832173.346751</td>\n",
       "      <td id=\"T_ad039_row2_col7\" class=\"data row2 col7\" >81785186.084201</td>\n",
       "      <td id=\"T_ad039_row2_col8\" class=\"data row2 col8\" >67795091.643236</td>\n",
       "      <td id=\"T_ad039_row2_col9\" class=\"data row2 col9\" >1761840.864063</td>\n",
       "      <td id=\"T_ad039_row2_col10\" class=\"data row2 col10\" >2066.121904</td>\n",
       "      <td id=\"T_ad039_row2_col11\" class=\"data row2 col11\" >0.013385</td>\n",
       "      <td id=\"T_ad039_row2_col12\" class=\"data row2 col12\" >1.714977</td>\n",
       "    </tr>\n",
       "    <tr>\n",
       "      <th id=\"T_ad039_level0_row3\" class=\"row_heading level0 row3\" >min</th>\n",
       "      <td id=\"T_ad039_row3_col0\" class=\"data row3 col0\" >1.000000</td>\n",
       "      <td id=\"T_ad039_row3_col1\" class=\"data row3 col1\" >510.000000</td>\n",
       "      <td id=\"T_ad039_row3_col2\" class=\"data row3 col2\" >520.000000</td>\n",
       "      <td id=\"T_ad039_row3_col3\" class=\"data row3 col3\" >564.000000</td>\n",
       "      <td id=\"T_ad039_row3_col4\" class=\"data row3 col4\" >596.000000</td>\n",
       "      <td id=\"T_ad039_row3_col5\" class=\"data row3 col5\" >651.000000</td>\n",
       "      <td id=\"T_ad039_row3_col6\" class=\"data row3 col6\" >700.000000</td>\n",
       "      <td id=\"T_ad039_row3_col7\" class=\"data row3 col7\" >733.000000</td>\n",
       "      <td id=\"T_ad039_row3_col8\" class=\"data row3 col8\" >752.000000</td>\n",
       "      <td id=\"T_ad039_row3_col9\" class=\"data row3 col9\" >1.000000</td>\n",
       "      <td id=\"T_ad039_row3_col10\" class=\"data row3 col10\" >0.026100</td>\n",
       "      <td id=\"T_ad039_row3_col11\" class=\"data row3 col11\" >0.912000</td>\n",
       "      <td id=\"T_ad039_row3_col12\" class=\"data row3 col12\" >0.000000</td>\n",
       "    </tr>\n",
       "    <tr>\n",
       "      <th id=\"T_ad039_level0_row4\" class=\"row_heading level0 row4\" >25%</th>\n",
       "      <td id=\"T_ad039_row4_col0\" class=\"data row4 col0\" >59.250000</td>\n",
       "      <td id=\"T_ad039_row4_col1\" class=\"data row4 col1\" >419738.500000</td>\n",
       "      <td id=\"T_ad039_row4_col2\" class=\"data row4 col2\" >415284.500000</td>\n",
       "      <td id=\"T_ad039_row4_col3\" class=\"data row4 col3\" >404676.000000</td>\n",
       "      <td id=\"T_ad039_row4_col4\" class=\"data row4 col4\" >393149.000000</td>\n",
       "      <td id=\"T_ad039_row4_col5\" class=\"data row4 col5\" >327242.000000</td>\n",
       "      <td id=\"T_ad039_row4_col6\" class=\"data row4 col6\" >264115.750000</td>\n",
       "      <td id=\"T_ad039_row4_col7\" class=\"data row4 col7\" >229614.250000</td>\n",
       "      <td id=\"T_ad039_row4_col8\" class=\"data row4 col8\" >155997.000000</td>\n",
       "      <td id=\"T_ad039_row4_col9\" class=\"data row4 col9\" >2650.000000</td>\n",
       "      <td id=\"T_ad039_row4_col10\" class=\"data row4 col10\" >38.417875</td>\n",
       "      <td id=\"T_ad039_row4_col11\" class=\"data row4 col11\" >1.001775</td>\n",
       "      <td id=\"T_ad039_row4_col12\" class=\"data row4 col12\" >0.010000</td>\n",
       "    </tr>\n",
       "    <tr>\n",
       "      <th id=\"T_ad039_level0_row5\" class=\"row_heading level0 row5\" >50%</th>\n",
       "      <td id=\"T_ad039_row5_col0\" class=\"data row5 col0\" >117.500000</td>\n",
       "      <td id=\"T_ad039_row5_col1\" class=\"data row5 col1\" >5559944.500000</td>\n",
       "      <td id=\"T_ad039_row5_col2\" class=\"data row5 col2\" >5493074.500000</td>\n",
       "      <td id=\"T_ad039_row5_col3\" class=\"data row5 col3\" >5307400.000000</td>\n",
       "      <td id=\"T_ad039_row5_col4\" class=\"data row5 col4\" >4942770.500000</td>\n",
       "      <td id=\"T_ad039_row5_col5\" class=\"data row5 col5\" >4292907.000000</td>\n",
       "      <td id=\"T_ad039_row5_col6\" class=\"data row5 col6\" >3825409.500000</td>\n",
       "      <td id=\"T_ad039_row5_col7\" class=\"data row5 col7\" >3141145.500000</td>\n",
       "      <td id=\"T_ad039_row5_col8\" class=\"data row5 col8\" >2604830.000000</td>\n",
       "      <td id=\"T_ad039_row5_col9\" class=\"data row5 col9\" >81199.500000</td>\n",
       "      <td id=\"T_ad039_row5_col10\" class=\"data row5 col10\" >95.346750</td>\n",
       "      <td id=\"T_ad039_row5_col11\" class=\"data row5 col11\" >1.007900</td>\n",
       "      <td id=\"T_ad039_row5_col12\" class=\"data row5 col12\" >0.070000</td>\n",
       "    </tr>\n",
       "    <tr>\n",
       "      <th id=\"T_ad039_level0_row6\" class=\"row_heading level0 row6\" >75%</th>\n",
       "      <td id=\"T_ad039_row6_col0\" class=\"data row6 col0\" >175.750000</td>\n",
       "      <td id=\"T_ad039_row6_col1\" class=\"data row6 col1\" >22476504.750000</td>\n",
       "      <td id=\"T_ad039_row6_col2\" class=\"data row6 col2\" >21447979.500000</td>\n",
       "      <td id=\"T_ad039_row6_col3\" class=\"data row6 col3\" >19730853.750000</td>\n",
       "      <td id=\"T_ad039_row6_col4\" class=\"data row6 col4\" >19159567.500000</td>\n",
       "      <td id=\"T_ad039_row6_col5\" class=\"data row6 col5\" >15762301.000000</td>\n",
       "      <td id=\"T_ad039_row6_col6\" class=\"data row6 col6\" >11869231.000000</td>\n",
       "      <td id=\"T_ad039_row6_col7\" class=\"data row6 col7\" >9826053.750000</td>\n",
       "      <td id=\"T_ad039_row6_col8\" class=\"data row6 col8\" >8817329.000000</td>\n",
       "      <td id=\"T_ad039_row6_col9\" class=\"data row6 col9\" >430425.750000</td>\n",
       "      <td id=\"T_ad039_row6_col10\" class=\"data row6 col10\" >238.933250</td>\n",
       "      <td id=\"T_ad039_row6_col11\" class=\"data row6 col11\" >1.016950</td>\n",
       "      <td id=\"T_ad039_row6_col12\" class=\"data row6 col12\" >0.280000</td>\n",
       "    </tr>\n",
       "    <tr>\n",
       "      <th id=\"T_ad039_level0_row7\" class=\"row_heading level0 row7\" >max</th>\n",
       "      <td id=\"T_ad039_row7_col0\" class=\"data row7 col0\" >234.000000</td>\n",
       "      <td id=\"T_ad039_row7_col1\" class=\"data row7 col1\" >1425887337.000000</td>\n",
       "      <td id=\"T_ad039_row7_col2\" class=\"data row7 col2\" >1424929781.000000</td>\n",
       "      <td id=\"T_ad039_row7_col3\" class=\"data row7 col3\" >1393715448.000000</td>\n",
       "      <td id=\"T_ad039_row7_col4\" class=\"data row7 col4\" >1348191368.000000</td>\n",
       "      <td id=\"T_ad039_row7_col5\" class=\"data row7 col5\" >1264099069.000000</td>\n",
       "      <td id=\"T_ad039_row7_col6\" class=\"data row7 col6\" >1153704252.000000</td>\n",
       "      <td id=\"T_ad039_row7_col7\" class=\"data row7 col7\" >982372466.000000</td>\n",
       "      <td id=\"T_ad039_row7_col8\" class=\"data row7 col8\" >822534450.000000</td>\n",
       "      <td id=\"T_ad039_row7_col9\" class=\"data row7 col9\" >17098242.000000</td>\n",
       "      <td id=\"T_ad039_row7_col10\" class=\"data row7 col10\" >23172.266700</td>\n",
       "      <td id=\"T_ad039_row7_col11\" class=\"data row7 col11\" >1.069100</td>\n",
       "      <td id=\"T_ad039_row7_col12\" class=\"data row7 col12\" >17.880000</td>\n",
       "    </tr>\n",
       "  </tbody>\n",
       "</table>\n"
      ],
      "text/plain": [
       "<pandas.io.formats.style.Styler at 0x247489d25d0>"
      ]
     },
     "execution_count": 17,
     "metadata": {},
     "output_type": "execute_result"
    }
   ],
   "source": [
    "print('Summary of the dataset:')\n",
    "df.describe().style.set_properties(**{\"background-color\": \"#006837\",\"color\":\"#e9c46a\",\"border\": \"1.5px solid black\"})"
   ]
  },
  {
   "cell_type": "code",
   "execution_count": 18,
   "id": "db9248b9",
   "metadata": {},
   "outputs": [
    {
     "data": {
      "text/html": [
       "<style type=\"text/css\">\n",
       "#T_dea6a_row0_col0, #T_dea6a_row0_col1, #T_dea6a_row0_col2, #T_dea6a_row0_col3, #T_dea6a_row1_col0, #T_dea6a_row1_col1, #T_dea6a_row1_col2, #T_dea6a_row1_col3, #T_dea6a_row2_col0, #T_dea6a_row2_col1, #T_dea6a_row2_col2, #T_dea6a_row2_col3, #T_dea6a_row3_col0, #T_dea6a_row3_col1, #T_dea6a_row3_col2, #T_dea6a_row3_col3 {\n",
       "  background-color: #006837;\n",
       "  color: #e9c46a;\n",
       "  border: 1.5px solid black;\n",
       "}\n",
       "</style>\n",
       "<table id=\"T_dea6a\">\n",
       "  <thead>\n",
       "    <tr>\n",
       "      <th class=\"blank level0\" >&nbsp;</th>\n",
       "      <th id=\"T_dea6a_level0_col0\" class=\"col_heading level0 col0\" >count</th>\n",
       "      <th id=\"T_dea6a_level0_col1\" class=\"col_heading level0 col1\" >unique</th>\n",
       "      <th id=\"T_dea6a_level0_col2\" class=\"col_heading level0 col2\" >top</th>\n",
       "      <th id=\"T_dea6a_level0_col3\" class=\"col_heading level0 col3\" >freq</th>\n",
       "    </tr>\n",
       "  </thead>\n",
       "  <tbody>\n",
       "    <tr>\n",
       "      <th id=\"T_dea6a_level0_row0\" class=\"row_heading level0 row0\" >CCA3</th>\n",
       "      <td id=\"T_dea6a_row0_col0\" class=\"data row0 col0\" >234</td>\n",
       "      <td id=\"T_dea6a_row0_col1\" class=\"data row0 col1\" >234</td>\n",
       "      <td id=\"T_dea6a_row0_col2\" class=\"data row0 col2\" >AFG</td>\n",
       "      <td id=\"T_dea6a_row0_col3\" class=\"data row0 col3\" >1</td>\n",
       "    </tr>\n",
       "    <tr>\n",
       "      <th id=\"T_dea6a_level0_row1\" class=\"row_heading level0 row1\" >Country/Territory</th>\n",
       "      <td id=\"T_dea6a_row1_col0\" class=\"data row1 col0\" >234</td>\n",
       "      <td id=\"T_dea6a_row1_col1\" class=\"data row1 col1\" >234</td>\n",
       "      <td id=\"T_dea6a_row1_col2\" class=\"data row1 col2\" >Afghanistan</td>\n",
       "      <td id=\"T_dea6a_row1_col3\" class=\"data row1 col3\" >1</td>\n",
       "    </tr>\n",
       "    <tr>\n",
       "      <th id=\"T_dea6a_level0_row2\" class=\"row_heading level0 row2\" >Capital</th>\n",
       "      <td id=\"T_dea6a_row2_col0\" class=\"data row2 col0\" >234</td>\n",
       "      <td id=\"T_dea6a_row2_col1\" class=\"data row2 col1\" >234</td>\n",
       "      <td id=\"T_dea6a_row2_col2\" class=\"data row2 col2\" >Kabul</td>\n",
       "      <td id=\"T_dea6a_row2_col3\" class=\"data row2 col3\" >1</td>\n",
       "    </tr>\n",
       "    <tr>\n",
       "      <th id=\"T_dea6a_level0_row3\" class=\"row_heading level0 row3\" >Continent</th>\n",
       "      <td id=\"T_dea6a_row3_col0\" class=\"data row3 col0\" >234</td>\n",
       "      <td id=\"T_dea6a_row3_col1\" class=\"data row3 col1\" >6</td>\n",
       "      <td id=\"T_dea6a_row3_col2\" class=\"data row3 col2\" >Africa</td>\n",
       "      <td id=\"T_dea6a_row3_col3\" class=\"data row3 col3\" >57</td>\n",
       "    </tr>\n",
       "  </tbody>\n",
       "</table>\n"
      ],
      "text/plain": [
       "<pandas.io.formats.style.Styler at 0x247489e6910>"
      ]
     },
     "execution_count": 18,
     "metadata": {},
     "output_type": "execute_result"
    }
   ],
   "source": [
    "df.describe(include = object).T.style.set_properties(**{\"background-color\": \"#006837\",\"color\":\"#e9c46a\",\"border\": \"1.5px solid black\"})"
   ]
  },
  {
   "cell_type": "code",
   "execution_count": 19,
   "id": "1afc18c5",
   "metadata": {},
   "outputs": [
    {
     "name": "stdout",
     "output_type": "stream",
     "text": [
      "Null values of the dataset:\n"
     ]
    },
    {
     "data": {
      "text/html": [
       "<style type=\"text/css\">\n",
       "#T_e90c8_row0_col0, #T_e90c8_row0_col1, #T_e90c8_row0_col2, #T_e90c8_row0_col3, #T_e90c8_row0_col4, #T_e90c8_row0_col5, #T_e90c8_row0_col6, #T_e90c8_row0_col7, #T_e90c8_row0_col8, #T_e90c8_row0_col9, #T_e90c8_row0_col10, #T_e90c8_row0_col11, #T_e90c8_row0_col12, #T_e90c8_row0_col13, #T_e90c8_row0_col14, #T_e90c8_row0_col15, #T_e90c8_row0_col16 {\n",
       "  background-color: #006837;\n",
       "  color: #e9c46a;\n",
       "  border: 1.5px solid black;\n",
       "}\n",
       "</style>\n",
       "<table id=\"T_e90c8\">\n",
       "  <thead>\n",
       "    <tr>\n",
       "      <th class=\"blank level0\" >&nbsp;</th>\n",
       "      <th id=\"T_e90c8_level0_col0\" class=\"col_heading level0 col0\" >Rank</th>\n",
       "      <th id=\"T_e90c8_level0_col1\" class=\"col_heading level0 col1\" >CCA3</th>\n",
       "      <th id=\"T_e90c8_level0_col2\" class=\"col_heading level0 col2\" >Country/Territory</th>\n",
       "      <th id=\"T_e90c8_level0_col3\" class=\"col_heading level0 col3\" >Capital</th>\n",
       "      <th id=\"T_e90c8_level0_col4\" class=\"col_heading level0 col4\" >Continent</th>\n",
       "      <th id=\"T_e90c8_level0_col5\" class=\"col_heading level0 col5\" >2022 Population</th>\n",
       "      <th id=\"T_e90c8_level0_col6\" class=\"col_heading level0 col6\" >2020 Population</th>\n",
       "      <th id=\"T_e90c8_level0_col7\" class=\"col_heading level0 col7\" >2015 Population</th>\n",
       "      <th id=\"T_e90c8_level0_col8\" class=\"col_heading level0 col8\" >2010 Population</th>\n",
       "      <th id=\"T_e90c8_level0_col9\" class=\"col_heading level0 col9\" >2000 Population</th>\n",
       "      <th id=\"T_e90c8_level0_col10\" class=\"col_heading level0 col10\" >1990 Population</th>\n",
       "      <th id=\"T_e90c8_level0_col11\" class=\"col_heading level0 col11\" >1980 Population</th>\n",
       "      <th id=\"T_e90c8_level0_col12\" class=\"col_heading level0 col12\" >1970 Population</th>\n",
       "      <th id=\"T_e90c8_level0_col13\" class=\"col_heading level0 col13\" >Area (km²)</th>\n",
       "      <th id=\"T_e90c8_level0_col14\" class=\"col_heading level0 col14\" >Density (per km²)</th>\n",
       "      <th id=\"T_e90c8_level0_col15\" class=\"col_heading level0 col15\" >Growth Rate</th>\n",
       "      <th id=\"T_e90c8_level0_col16\" class=\"col_heading level0 col16\" >World Population Percentage</th>\n",
       "    </tr>\n",
       "  </thead>\n",
       "  <tbody>\n",
       "    <tr>\n",
       "      <th id=\"T_e90c8_level0_row0\" class=\"row_heading level0 row0\" >0</th>\n",
       "      <td id=\"T_e90c8_row0_col0\" class=\"data row0 col0\" >0</td>\n",
       "      <td id=\"T_e90c8_row0_col1\" class=\"data row0 col1\" >0</td>\n",
       "      <td id=\"T_e90c8_row0_col2\" class=\"data row0 col2\" >0</td>\n",
       "      <td id=\"T_e90c8_row0_col3\" class=\"data row0 col3\" >0</td>\n",
       "      <td id=\"T_e90c8_row0_col4\" class=\"data row0 col4\" >0</td>\n",
       "      <td id=\"T_e90c8_row0_col5\" class=\"data row0 col5\" >0</td>\n",
       "      <td id=\"T_e90c8_row0_col6\" class=\"data row0 col6\" >0</td>\n",
       "      <td id=\"T_e90c8_row0_col7\" class=\"data row0 col7\" >0</td>\n",
       "      <td id=\"T_e90c8_row0_col8\" class=\"data row0 col8\" >0</td>\n",
       "      <td id=\"T_e90c8_row0_col9\" class=\"data row0 col9\" >0</td>\n",
       "      <td id=\"T_e90c8_row0_col10\" class=\"data row0 col10\" >0</td>\n",
       "      <td id=\"T_e90c8_row0_col11\" class=\"data row0 col11\" >0</td>\n",
       "      <td id=\"T_e90c8_row0_col12\" class=\"data row0 col12\" >0</td>\n",
       "      <td id=\"T_e90c8_row0_col13\" class=\"data row0 col13\" >0</td>\n",
       "      <td id=\"T_e90c8_row0_col14\" class=\"data row0 col14\" >0</td>\n",
       "      <td id=\"T_e90c8_row0_col15\" class=\"data row0 col15\" >0</td>\n",
       "      <td id=\"T_e90c8_row0_col16\" class=\"data row0 col16\" >0</td>\n",
       "    </tr>\n",
       "  </tbody>\n",
       "</table>\n"
      ],
      "text/plain": [
       "<pandas.io.formats.style.Styler at 0x247489fbf90>"
      ]
     },
     "execution_count": 19,
     "metadata": {},
     "output_type": "execute_result"
    }
   ],
   "source": [
    "print(f'Null values of the dataset:')\n",
    "df.isna().sum().to_frame().T.style.set_properties(**{\"background-color\": \"#006837\",\"color\":\"#e9c46a\",\"border\": \"1.5px solid black\"})"
   ]
  },
  {
   "cell_type": "markdown",
   "id": "6d385651",
   "metadata": {},
   "source": [
    "Insights:\n",
    "- There is no missing value in this dataset.\n",
    "- We will encode the categorical features into numerical form later."
   ]
  },
  {
   "cell_type": "markdown",
   "id": "266e653c",
   "metadata": {},
   "source": [
    "4. Custom palette"
   ]
  },
  {
   "cell_type": "code",
   "execution_count": 20,
   "id": "ee14b910",
   "metadata": {},
   "outputs": [],
   "source": [
    "sns.set_style('white')\n",
    "sns.set(rc={'axes.facecolor': '#d5ce98', 'figure.facecolor': '#d5ce98'})\n",
    "sns.set_context('poster', font_scale = .7)\n",
    "palette = [\"#006837\",\"#1A9850\",\"#66BD63\",\"#A6D96A\",\"#D9EF8B\",\"#FFFFBF\",\"#FEE08B\",\"#FDAE61\",\"#F46D43\",\"#D73027\",\"#A50026\"]\n",
    "palette_cmap = [\"#A50026\",\"#D73027\",\"#F46D43\",\"#FDAE61\",\"#FEE08B\",\"#FFFFBF\",\"#D9EF8B\",\"#A6D96A\",\"#66BD63\",\"#1A9850\",\"#006837\"]"
   ]
  },
  {
   "cell_type": "markdown",
   "id": "c25d752c",
   "metadata": {},
   "source": [
    "5. Analysis"
   ]
  },
  {
   "cell_type": "code",
   "execution_count": null,
   "id": "32efbe69",
   "metadata": {},
   "outputs": [],
   "source": [
    "print(f\"Let's have a look on the population:\")\n",
    "_, axs = plt.subplots(2, 1, figsize = (20, 16))\n",
    "plt.tight_layout(pad = 7.0)"
   ]
  },
  {
   "cell_type": "code",
   "execution_count": null,
   "id": "0ba2d7c0",
   "metadata": {},
   "outputs": [],
   "source": []
  },
  {
   "cell_type": "code",
   "execution_count": null,
   "id": "8b678a2a",
   "metadata": {},
   "outputs": [],
   "source": []
  },
  {
   "cell_type": "code",
   "execution_count": null,
   "id": "c1ed9223",
   "metadata": {},
   "outputs": [],
   "source": []
  },
  {
   "cell_type": "code",
   "execution_count": null,
   "id": "d7e3be82",
   "metadata": {},
   "outputs": [],
   "source": []
  },
  {
   "cell_type": "code",
   "execution_count": null,
   "id": "9cfcdf1a",
   "metadata": {},
   "outputs": [],
   "source": []
  },
  {
   "cell_type": "code",
   "execution_count": null,
   "id": "82126cc2",
   "metadata": {},
   "outputs": [],
   "source": []
  },
  {
   "cell_type": "code",
   "execution_count": null,
   "id": "1681ed91",
   "metadata": {},
   "outputs": [],
   "source": []
  },
  {
   "cell_type": "code",
   "execution_count": null,
   "id": "8084aaa1",
   "metadata": {},
   "outputs": [],
   "source": []
  },
  {
   "cell_type": "code",
   "execution_count": null,
   "id": "a831a089",
   "metadata": {},
   "outputs": [],
   "source": []
  },
  {
   "cell_type": "code",
   "execution_count": null,
   "id": "d4d19460",
   "metadata": {},
   "outputs": [],
   "source": []
  },
  {
   "cell_type": "code",
   "execution_count": null,
   "id": "64018898",
   "metadata": {},
   "outputs": [],
   "source": []
  },
  {
   "cell_type": "code",
   "execution_count": null,
   "id": "b2794759",
   "metadata": {},
   "outputs": [],
   "source": []
  },
  {
   "cell_type": "code",
   "execution_count": null,
   "metadata": {},
   "outputs": [],
   "source": []
  },
  {
   "cell_type": "code",
   "execution_count": null,
   "id": "aa7e4512",
   "metadata": {},
   "outputs": [],
   "source": []
  },
  {
   "cell_type": "code",
   "execution_count": null,
   "id": "d0908414",
   "metadata": {},
   "outputs": [],
   "source": []
  },
  {
   "cell_type": "code",
   "execution_count": null,
   "metadata": {},
   "outputs": [],
   "source": []
  },
  {
   "cell_type": "code",
   "execution_count": null,
   "id": "27d57658",
   "metadata": {},
   "outputs": [],
   "source": []
  },
  {
   "cell_type": "code",
   "execution_count": null,
   "id": "d83c6996",
   "metadata": {},
   "outputs": [],
   "source": []
  },
  {
   "cell_type": "code",
   "execution_count": null,
   "metadata": {},
   "outputs": [],
   "source": []
  },
  {
   "cell_type": "code",
   "execution_count": null,
   "id": "7cc87933",
   "metadata": {},
   "outputs": [],
   "source": []
  },
  {
   "cell_type": "code",
   "execution_count": null,
   "id": "e57c91f5",
   "metadata": {},
   "outputs": [],
   "source": []
  },
  {
   "cell_type": "code",
   "execution_count": null,
   "metadata": {},
   "outputs": [],
   "source": []
  },
  {
   "cell_type": "code",
   "execution_count": null,
   "id": "de18bf89",
   "metadata": {},
   "outputs": [],
   "source": []
  },
  {
   "cell_type": "code",
   "execution_count": null,
   "id": "3e6e2c16",
   "metadata": {},
   "outputs": [],
   "source": []
  },
  {
   "cell_type": "code",
   "execution_count": null,
   "metadata": {},
   "outputs": [],
   "source": []
  },
  {
   "cell_type": "code",
   "execution_count": null,
   "id": "e68b896d",
   "metadata": {},
   "outputs": [],
   "source": []
  },
  {
   "cell_type": "code",
   "execution_count": null,
   "id": "3def53a4",
   "metadata": {},
   "outputs": [],
   "source": []
  }
 ],
 "metadata": {
  "kernelspec": {
   "display_name": "base",
   "language": "python",
   "name": "python3"
  },
  "language_info": {
   "codemirror_mode": {
    "name": "ipython",
    "version": 3
   },
   "file_extension": ".py",
   "mimetype": "text/x-python",
   "name": "python",
   "nbconvert_exporter": "python",
   "pygments_lexer": "ipython3",
   "version": "3.11.4"
  }
 },
 "nbformat": 4,
 "nbformat_minor": 5
}
