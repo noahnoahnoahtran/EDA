{
 "cells": [
  {
   "cell_type": "markdown",
   "id": "b99449a2",
   "metadata": {},
   "source": [
    "# **1. Import libraries**"
   ]
  },
  {
   "cell_type": "code",
   "execution_count": 1,
   "id": "c706be0d",
   "metadata": {},
   "outputs": [
    {
     "name": "stderr",
     "output_type": "stream",
     "text": [
      "c:\\Users\\ACER\\ANA\\anaconda3\\Lib\\site-packages\\pandas\\core\\arrays\\masked.py:60: UserWarning: Pandas requires version '1.3.6' or newer of 'bottleneck' (version '1.3.5' currently installed).\n",
      "  from pandas.core import (\n"
     ]
    }
   ],
   "source": [
    "import numpy as np\n",
    "import pandas as pd\n",
    "import matplotlib.pyplot as plt\n",
    "import seaborn as sns\n",
    "import plotly.express as px\n",
    "import warnings\n",
    "warnings.filterwarnings(\"ignore\")"
   ]
  },
  {
   "cell_type": "markdown",
   "id": "c029eadc",
   "metadata": {},
   "source": [
    "# **2. Load dataset**"
   ]
  },
  {
   "cell_type": "code",
   "execution_count": 3,
   "id": "283216bf",
   "metadata": {},
   "outputs": [],
   "source": [
    "#A tally of confirmed and suspected cases in all countries\n",
    "case = pd.read_csv(\"Monkey_Pox_Cases_Worldwide.csv\")\n",
    "\n",
    "#Timeline for confirmed cases with respect to date time and other details on every reported case\n",
    "case_timeline = pd.read_csv(\"Worldwide_Case_Detection_Timeline.csv\")\n",
    "\n",
    "#Daily number of confirmed cases for all the countries where the virus has entered\n",
    "case_country = pd.read_csv(\"Daily_Country_Wise_Confirmed_Cases.csv\")"
   ]
  },
  {
   "cell_type": "markdown",
   "id": "bc11a8dd",
   "metadata": {},
   "source": [
    "# **3. Basic exploration**"
   ]
  },
  {
   "cell_type": "code",
   "execution_count": 5,
   "id": "6305d88b",
   "metadata": {},
   "outputs": [
    {
     "name": "stdout",
     "output_type": "stream",
     "text": [
      "Shape of Case Dataset: (129, 6)\n",
      "\n",
      "Glimpse of Case Dataset:\n"
     ]
    },
    {
     "data": {
      "text/html": [
       "<style type=\"text/css\">\n",
       "#T_34aaf_row0_col0, #T_34aaf_row0_col1, #T_34aaf_row0_col2, #T_34aaf_row0_col3, #T_34aaf_row0_col4, #T_34aaf_row0_col5, #T_34aaf_row1_col0, #T_34aaf_row1_col1, #T_34aaf_row1_col2, #T_34aaf_row1_col3, #T_34aaf_row1_col4, #T_34aaf_row1_col5, #T_34aaf_row2_col0, #T_34aaf_row2_col1, #T_34aaf_row2_col2, #T_34aaf_row2_col3, #T_34aaf_row2_col4, #T_34aaf_row2_col5, #T_34aaf_row3_col0, #T_34aaf_row3_col1, #T_34aaf_row3_col2, #T_34aaf_row3_col3, #T_34aaf_row3_col4, #T_34aaf_row3_col5, #T_34aaf_row4_col0, #T_34aaf_row4_col1, #T_34aaf_row4_col2, #T_34aaf_row4_col3, #T_34aaf_row4_col4, #T_34aaf_row4_col5 {\n",
       "  background-color: #254441;\n",
       "  color: #e9c46a;\n",
       "  border: 1.5px solid black;\n",
       "}\n",
       "</style>\n",
       "<table id=\"T_34aaf\">\n",
       "  <thead>\n",
       "    <tr>\n",
       "      <th class=\"blank level0\" >&nbsp;</th>\n",
       "      <th id=\"T_34aaf_level0_col0\" class=\"col_heading level0 col0\" >Country</th>\n",
       "      <th id=\"T_34aaf_level0_col1\" class=\"col_heading level0 col1\" >Confirmed_Cases</th>\n",
       "      <th id=\"T_34aaf_level0_col2\" class=\"col_heading level0 col2\" >Suspected_Cases</th>\n",
       "      <th id=\"T_34aaf_level0_col3\" class=\"col_heading level0 col3\" >Hospitalized</th>\n",
       "      <th id=\"T_34aaf_level0_col4\" class=\"col_heading level0 col4\" >Travel_History_Yes</th>\n",
       "      <th id=\"T_34aaf_level0_col5\" class=\"col_heading level0 col5\" >Travel_History_No</th>\n",
       "    </tr>\n",
       "  </thead>\n",
       "  <tbody>\n",
       "    <tr>\n",
       "      <th id=\"T_34aaf_level0_row0\" class=\"row_heading level0 row0\" >0</th>\n",
       "      <td id=\"T_34aaf_row0_col0\" class=\"data row0 col0\" >England</td>\n",
       "      <td id=\"T_34aaf_row0_col1\" class=\"data row0 col1\" >3412.000000</td>\n",
       "      <td id=\"T_34aaf_row0_col2\" class=\"data row0 col2\" >0.000000</td>\n",
       "      <td id=\"T_34aaf_row0_col3\" class=\"data row0 col3\" >5.000000</td>\n",
       "      <td id=\"T_34aaf_row0_col4\" class=\"data row0 col4\" >2.000000</td>\n",
       "      <td id=\"T_34aaf_row0_col5\" class=\"data row0 col5\" >7.000000</td>\n",
       "    </tr>\n",
       "    <tr>\n",
       "      <th id=\"T_34aaf_level0_row1\" class=\"row_heading level0 row1\" >1</th>\n",
       "      <td id=\"T_34aaf_row1_col0\" class=\"data row1 col0\" >Portugal</td>\n",
       "      <td id=\"T_34aaf_row1_col1\" class=\"data row1 col1\" >908.000000</td>\n",
       "      <td id=\"T_34aaf_row1_col2\" class=\"data row1 col2\" >0.000000</td>\n",
       "      <td id=\"T_34aaf_row1_col3\" class=\"data row1 col3\" >0.000000</td>\n",
       "      <td id=\"T_34aaf_row1_col4\" class=\"data row1 col4\" >0.000000</td>\n",
       "      <td id=\"T_34aaf_row1_col5\" class=\"data row1 col5\" >34.000000</td>\n",
       "    </tr>\n",
       "    <tr>\n",
       "      <th id=\"T_34aaf_level0_row2\" class=\"row_heading level0 row2\" >2</th>\n",
       "      <td id=\"T_34aaf_row2_col0\" class=\"data row2 col0\" >Spain</td>\n",
       "      <td id=\"T_34aaf_row2_col1\" class=\"data row2 col1\" >7083.000000</td>\n",
       "      <td id=\"T_34aaf_row2_col2\" class=\"data row2 col2\" >0.000000</td>\n",
       "      <td id=\"T_34aaf_row2_col3\" class=\"data row2 col3\" >13.000000</td>\n",
       "      <td id=\"T_34aaf_row2_col4\" class=\"data row2 col4\" >2.000000</td>\n",
       "      <td id=\"T_34aaf_row2_col5\" class=\"data row2 col5\" >0.000000</td>\n",
       "    </tr>\n",
       "    <tr>\n",
       "      <th id=\"T_34aaf_level0_row3\" class=\"row_heading level0 row3\" >3</th>\n",
       "      <td id=\"T_34aaf_row3_col0\" class=\"data row3 col0\" >United States</td>\n",
       "      <td id=\"T_34aaf_row3_col1\" class=\"data row3 col1\" >24403.000000</td>\n",
       "      <td id=\"T_34aaf_row3_col2\" class=\"data row3 col2\" >0.000000</td>\n",
       "      <td id=\"T_34aaf_row3_col3\" class=\"data row3 col3\" >4.000000</td>\n",
       "      <td id=\"T_34aaf_row3_col4\" class=\"data row3 col4\" >41.000000</td>\n",
       "      <td id=\"T_34aaf_row3_col5\" class=\"data row3 col5\" >11.000000</td>\n",
       "    </tr>\n",
       "    <tr>\n",
       "      <th id=\"T_34aaf_level0_row4\" class=\"row_heading level0 row4\" >4</th>\n",
       "      <td id=\"T_34aaf_row4_col0\" class=\"data row4 col0\" >Canada</td>\n",
       "      <td id=\"T_34aaf_row4_col1\" class=\"data row4 col1\" >1388.000000</td>\n",
       "      <td id=\"T_34aaf_row4_col2\" class=\"data row4 col2\" >12.000000</td>\n",
       "      <td id=\"T_34aaf_row4_col3\" class=\"data row4 col3\" >1.000000</td>\n",
       "      <td id=\"T_34aaf_row4_col4\" class=\"data row4 col4\" >5.000000</td>\n",
       "      <td id=\"T_34aaf_row4_col5\" class=\"data row4 col5\" >0.000000</td>\n",
       "    </tr>\n",
       "  </tbody>\n",
       "</table>\n"
      ],
      "text/plain": [
       "<pandas.io.formats.style.Styler at 0x2296f9f9510>"
      ]
     },
     "execution_count": 5,
     "metadata": {},
     "output_type": "execute_result"
    }
   ],
   "source": [
    "print(f\"Shape of Case Dataset: {case.shape}\")\n",
    "print(f\"\\nGlimpse of Case Dataset:\")\n",
    "case.head().style.set_properties(**{\"background-color\": \"#254441\", \"color\": \"#e9c46a\", \"border\": \"1.5px solid black\"})"
   ]
  },
  {
   "cell_type": "code",
   "execution_count": 7,
   "id": "7051328a",
   "metadata": {},
   "outputs": [
    {
     "name": "stdout",
     "output_type": "stream",
     "text": [
      "Information of Case Dataset:\n",
      "\n",
      "<class 'pandas.core.frame.DataFrame'>\n",
      "RangeIndex: 129 entries, 0 to 128\n",
      "Data columns (total 6 columns):\n",
      " #   Column              Non-Null Count  Dtype  \n",
      "---  ------              --------------  -----  \n",
      " 0   Country             129 non-null    object \n",
      " 1   Confirmed_Cases     129 non-null    float64\n",
      " 2   Suspected_Cases     129 non-null    float64\n",
      " 3   Hospitalized        129 non-null    float64\n",
      " 4   Travel_History_Yes  129 non-null    float64\n",
      " 5   Travel_History_No   129 non-null    float64\n",
      "dtypes: float64(5), object(1)\n",
      "memory usage: 6.2+ KB\n",
      "None\n"
     ]
    }
   ],
   "source": [
    "print(f\"Information of Case Dataset:\\n\")\n",
    "print(case.info())"
   ]
  },
  {
   "cell_type": "code",
   "execution_count": 8,
   "id": "d23ef4f9",
   "metadata": {},
   "outputs": [
    {
     "name": "stdout",
     "output_type": "stream",
     "text": [
      "Summary of Case Dataset:\n"
     ]
    },
    {
     "data": {
      "text/html": [
       "<style type=\"text/css\">\n",
       "#T_9c2b6_row0_col0, #T_9c2b6_row0_col1, #T_9c2b6_row0_col2, #T_9c2b6_row0_col3, #T_9c2b6_row0_col4, #T_9c2b6_row0_col5, #T_9c2b6_row0_col6, #T_9c2b6_row0_col7, #T_9c2b6_row1_col0, #T_9c2b6_row1_col1, #T_9c2b6_row1_col2, #T_9c2b6_row1_col3, #T_9c2b6_row1_col4, #T_9c2b6_row1_col5, #T_9c2b6_row1_col6, #T_9c2b6_row1_col7, #T_9c2b6_row2_col0, #T_9c2b6_row2_col1, #T_9c2b6_row2_col2, #T_9c2b6_row2_col3, #T_9c2b6_row2_col4, #T_9c2b6_row2_col5, #T_9c2b6_row2_col6, #T_9c2b6_row2_col7, #T_9c2b6_row3_col0, #T_9c2b6_row3_col1, #T_9c2b6_row3_col2, #T_9c2b6_row3_col3, #T_9c2b6_row3_col4, #T_9c2b6_row3_col5, #T_9c2b6_row3_col6, #T_9c2b6_row3_col7, #T_9c2b6_row4_col0, #T_9c2b6_row4_col1, #T_9c2b6_row4_col2, #T_9c2b6_row4_col3, #T_9c2b6_row4_col4, #T_9c2b6_row4_col5, #T_9c2b6_row4_col6, #T_9c2b6_row4_col7 {\n",
       "  background-color: #254441;\n",
       "  color: #e9c46a;\n",
       "  border: 1.5px solid black;\n",
       "}\n",
       "</style>\n",
       "<table id=\"T_9c2b6\">\n",
       "  <thead>\n",
       "    <tr>\n",
       "      <th class=\"blank level0\" >&nbsp;</th>\n",
       "      <th id=\"T_9c2b6_level0_col0\" class=\"col_heading level0 col0\" >count</th>\n",
       "      <th id=\"T_9c2b6_level0_col1\" class=\"col_heading level0 col1\" >mean</th>\n",
       "      <th id=\"T_9c2b6_level0_col2\" class=\"col_heading level0 col2\" >std</th>\n",
       "      <th id=\"T_9c2b6_level0_col3\" class=\"col_heading level0 col3\" >min</th>\n",
       "      <th id=\"T_9c2b6_level0_col4\" class=\"col_heading level0 col4\" >25%</th>\n",
       "      <th id=\"T_9c2b6_level0_col5\" class=\"col_heading level0 col5\" >50%</th>\n",
       "      <th id=\"T_9c2b6_level0_col6\" class=\"col_heading level0 col6\" >75%</th>\n",
       "      <th id=\"T_9c2b6_level0_col7\" class=\"col_heading level0 col7\" >max</th>\n",
       "    </tr>\n",
       "  </thead>\n",
       "  <tbody>\n",
       "    <tr>\n",
       "      <th id=\"T_9c2b6_level0_row0\" class=\"row_heading level0 row0\" >Confirmed_Cases</th>\n",
       "      <td id=\"T_9c2b6_row0_col0\" class=\"data row0 col0\" >129.000000</td>\n",
       "      <td id=\"T_9c2b6_row0_col1\" class=\"data row0 col1\" >505.542636</td>\n",
       "      <td id=\"T_9c2b6_row0_col2\" class=\"data row0 col2\" >2376.143711</td>\n",
       "      <td id=\"T_9c2b6_row0_col3\" class=\"data row0 col3\" >0.000000</td>\n",
       "      <td id=\"T_9c2b6_row0_col4\" class=\"data row0 col4\" >2.000000</td>\n",
       "      <td id=\"T_9c2b6_row0_col5\" class=\"data row0 col5\" >6.000000</td>\n",
       "      <td id=\"T_9c2b6_row0_col6\" class=\"data row0 col6\" >77.000000</td>\n",
       "      <td id=\"T_9c2b6_row0_col7\" class=\"data row0 col7\" >24403.000000</td>\n",
       "    </tr>\n",
       "    <tr>\n",
       "      <th id=\"T_9c2b6_level0_row1\" class=\"row_heading level0 row1\" >Suspected_Cases</th>\n",
       "      <td id=\"T_9c2b6_row1_col0\" class=\"data row1 col0\" >129.000000</td>\n",
       "      <td id=\"T_9c2b6_row1_col1\" class=\"data row1 col1\" >28.472868</td>\n",
       "      <td id=\"T_9c2b6_row1_col2\" class=\"data row1 col2\" >254.846647</td>\n",
       "      <td id=\"T_9c2b6_row1_col3\" class=\"data row1 col3\" >0.000000</td>\n",
       "      <td id=\"T_9c2b6_row1_col4\" class=\"data row1 col4\" >0.000000</td>\n",
       "      <td id=\"T_9c2b6_row1_col5\" class=\"data row1 col5\" >0.000000</td>\n",
       "      <td id=\"T_9c2b6_row1_col6\" class=\"data row1 col6\" >0.000000</td>\n",
       "      <td id=\"T_9c2b6_row1_col7\" class=\"data row1 col7\" >2852.000000</td>\n",
       "    </tr>\n",
       "    <tr>\n",
       "      <th id=\"T_9c2b6_level0_row2\" class=\"row_heading level0 row2\" >Hospitalized</th>\n",
       "      <td id=\"T_9c2b6_row2_col0\" class=\"data row2 col0\" >129.000000</td>\n",
       "      <td id=\"T_9c2b6_row2_col1\" class=\"data row2 col1\" >1.170543</td>\n",
       "      <td id=\"T_9c2b6_row2_col2\" class=\"data row2 col2\" >2.795432</td>\n",
       "      <td id=\"T_9c2b6_row2_col3\" class=\"data row2 col3\" >0.000000</td>\n",
       "      <td id=\"T_9c2b6_row2_col4\" class=\"data row2 col4\" >0.000000</td>\n",
       "      <td id=\"T_9c2b6_row2_col5\" class=\"data row2 col5\" >0.000000</td>\n",
       "      <td id=\"T_9c2b6_row2_col6\" class=\"data row2 col6\" >1.000000</td>\n",
       "      <td id=\"T_9c2b6_row2_col7\" class=\"data row2 col7\" >18.000000</td>\n",
       "    </tr>\n",
       "    <tr>\n",
       "      <th id=\"T_9c2b6_level0_row3\" class=\"row_heading level0 row3\" >Travel_History_Yes</th>\n",
       "      <td id=\"T_9c2b6_row3_col0\" class=\"data row3 col0\" >129.000000</td>\n",
       "      <td id=\"T_9c2b6_row3_col1\" class=\"data row3 col1\" >2.124031</td>\n",
       "      <td id=\"T_9c2b6_row3_col2\" class=\"data row3 col2\" >4.758229</td>\n",
       "      <td id=\"T_9c2b6_row3_col3\" class=\"data row3 col3\" >0.000000</td>\n",
       "      <td id=\"T_9c2b6_row3_col4\" class=\"data row3 col4\" >0.000000</td>\n",
       "      <td id=\"T_9c2b6_row3_col5\" class=\"data row3 col5\" >1.000000</td>\n",
       "      <td id=\"T_9c2b6_row3_col6\" class=\"data row3 col6\" >2.000000</td>\n",
       "      <td id=\"T_9c2b6_row3_col7\" class=\"data row3 col7\" >41.000000</td>\n",
       "    </tr>\n",
       "    <tr>\n",
       "      <th id=\"T_9c2b6_level0_row4\" class=\"row_heading level0 row4\" >Travel_History_No</th>\n",
       "      <td id=\"T_9c2b6_row4_col0\" class=\"data row4 col0\" >129.000000</td>\n",
       "      <td id=\"T_9c2b6_row4_col1\" class=\"data row4 col1\" >0.705426</td>\n",
       "      <td id=\"T_9c2b6_row4_col2\" class=\"data row4 col2\" >3.512040</td>\n",
       "      <td id=\"T_9c2b6_row4_col3\" class=\"data row4 col3\" >0.000000</td>\n",
       "      <td id=\"T_9c2b6_row4_col4\" class=\"data row4 col4\" >0.000000</td>\n",
       "      <td id=\"T_9c2b6_row4_col5\" class=\"data row4 col5\" >0.000000</td>\n",
       "      <td id=\"T_9c2b6_row4_col6\" class=\"data row4 col6\" >0.000000</td>\n",
       "      <td id=\"T_9c2b6_row4_col7\" class=\"data row4 col7\" >34.000000</td>\n",
       "    </tr>\n",
       "  </tbody>\n",
       "</table>\n"
      ],
      "text/plain": [
       "<pandas.io.formats.style.Styler at 0x2296ecd2250>"
      ]
     },
     "execution_count": 8,
     "metadata": {},
     "output_type": "execute_result"
    }
   ],
   "source": [
    "print(f\"Summary of Case Dataset:\")\n",
    "case.describe().T.style.set_properties(**{\"background-color\": \"#254441\", \"color\": \"#e9c46a\", \"border\": \"1.5px solid black\"})"
   ]
  },
  {
   "cell_type": "code",
   "execution_count": 10,
   "id": "c6e5426a",
   "metadata": {},
   "outputs": [
    {
     "data": {
      "text/html": [
       "<style type=\"text/css\">\n",
       "#T_bb42b_row0_col0, #T_bb42b_row0_col1, #T_bb42b_row0_col2, #T_bb42b_row0_col3 {\n",
       "  background-color: #254441;\n",
       "  color: #e9c46a;\n",
       "  border: 1.5px solid black;\n",
       "}\n",
       "</style>\n",
       "<table id=\"T_bb42b\">\n",
       "  <thead>\n",
       "    <tr>\n",
       "      <th class=\"blank level0\" >&nbsp;</th>\n",
       "      <th id=\"T_bb42b_level0_col0\" class=\"col_heading level0 col0\" >count</th>\n",
       "      <th id=\"T_bb42b_level0_col1\" class=\"col_heading level0 col1\" >unique</th>\n",
       "      <th id=\"T_bb42b_level0_col2\" class=\"col_heading level0 col2\" >top</th>\n",
       "      <th id=\"T_bb42b_level0_col3\" class=\"col_heading level0 col3\" >freq</th>\n",
       "    </tr>\n",
       "  </thead>\n",
       "  <tbody>\n",
       "    <tr>\n",
       "      <th id=\"T_bb42b_level0_row0\" class=\"row_heading level0 row0\" >Country</th>\n",
       "      <td id=\"T_bb42b_row0_col0\" class=\"data row0 col0\" >129</td>\n",
       "      <td id=\"T_bb42b_row0_col1\" class=\"data row0 col1\" >129</td>\n",
       "      <td id=\"T_bb42b_row0_col2\" class=\"data row0 col2\" >England</td>\n",
       "      <td id=\"T_bb42b_row0_col3\" class=\"data row0 col3\" >1</td>\n",
       "    </tr>\n",
       "  </tbody>\n",
       "</table>\n"
      ],
      "text/plain": [
       "<pandas.io.formats.style.Styler at 0x2296ecad110>"
      ]
     },
     "execution_count": 10,
     "metadata": {},
     "output_type": "execute_result"
    }
   ],
   "source": [
    "case.describe(include=object).T.style.set_properties(**{\"background-color\": \"#254441\", \"color\": \"#e9c46a\", \"border\": \"1.5px solid black\"})"
   ]
  },
  {
   "cell_type": "code",
   "execution_count": 11,
   "id": "5c0db1cb",
   "metadata": {},
   "outputs": [
    {
     "name": "stdout",
     "output_type": "stream",
     "text": [
      "Null values of Case Dataset:\n"
     ]
    },
    {
     "data": {
      "text/html": [
       "<style type=\"text/css\">\n",
       "#T_a1f09_row0_col0, #T_a1f09_row0_col1, #T_a1f09_row0_col2, #T_a1f09_row0_col3, #T_a1f09_row0_col4, #T_a1f09_row0_col5 {\n",
       "  background-color: #254441;\n",
       "  color: #e9c46a;\n",
       "  border: 1.5px solid black;\n",
       "}\n",
       "</style>\n",
       "<table id=\"T_a1f09\">\n",
       "  <thead>\n",
       "    <tr>\n",
       "      <th class=\"blank level0\" >&nbsp;</th>\n",
       "      <th id=\"T_a1f09_level0_col0\" class=\"col_heading level0 col0\" >Country</th>\n",
       "      <th id=\"T_a1f09_level0_col1\" class=\"col_heading level0 col1\" >Confirmed_Cases</th>\n",
       "      <th id=\"T_a1f09_level0_col2\" class=\"col_heading level0 col2\" >Suspected_Cases</th>\n",
       "      <th id=\"T_a1f09_level0_col3\" class=\"col_heading level0 col3\" >Hospitalized</th>\n",
       "      <th id=\"T_a1f09_level0_col4\" class=\"col_heading level0 col4\" >Travel_History_Yes</th>\n",
       "      <th id=\"T_a1f09_level0_col5\" class=\"col_heading level0 col5\" >Travel_History_No</th>\n",
       "    </tr>\n",
       "  </thead>\n",
       "  <tbody>\n",
       "    <tr>\n",
       "      <th id=\"T_a1f09_level0_row0\" class=\"row_heading level0 row0\" >0</th>\n",
       "      <td id=\"T_a1f09_row0_col0\" class=\"data row0 col0\" >0</td>\n",
       "      <td id=\"T_a1f09_row0_col1\" class=\"data row0 col1\" >0</td>\n",
       "      <td id=\"T_a1f09_row0_col2\" class=\"data row0 col2\" >0</td>\n",
       "      <td id=\"T_a1f09_row0_col3\" class=\"data row0 col3\" >0</td>\n",
       "      <td id=\"T_a1f09_row0_col4\" class=\"data row0 col4\" >0</td>\n",
       "      <td id=\"T_a1f09_row0_col5\" class=\"data row0 col5\" >0</td>\n",
       "    </tr>\n",
       "  </tbody>\n",
       "</table>\n"
      ],
      "text/plain": [
       "<pandas.io.formats.style.Styler at 0x2296fa5fd90>"
      ]
     },
     "execution_count": 11,
     "metadata": {},
     "output_type": "execute_result"
    }
   ],
   "source": [
    "print(f\"Null values of Case Dataset:\")\n",
    "case.isna().sum().to_frame().T.style.set_properties(**{\"background-color\": \"#254441\", \"color\": \"#e9c46a\", \"border\": \"1.5px solid black\"})"
   ]
  },
  {
   "cell_type": "markdown",
   "id": "272d7baa",
   "metadata": {},
   "source": [
    "### **Insights**:\n",
    "- There is no null value in the Case dataset.\n",
    "- All countable values are in float datatype.\n",
    "- These should be converted into int datatype for efficient calculation and representation."
   ]
  },
  {
   "cell_type": "markdown",
   "id": "f8dd66b9",
   "metadata": {},
   "source": [
    "# **4. Custom palette**"
   ]
  },
  {
   "cell_type": "code",
   "execution_count": null,
   "id": "1739da7a",
   "metadata": {},
   "outputs": [],
   "source": [
    "sns.set_style(\"white\")\n",
    "sns.set(rc={\"axes.facecolor\": \"#e9edc9\", \"figure.facecolor\": \"#e9edc9\"})\n",
    "sns.set_context(\"poster\", font_scale=.7)\n",
    "\n",
    "palette = [\"#003C30\",\"#01665E\",\"#35978F\",\"#80CDC1\",\"#80CDC1\",\"#F5F5F5\",\"#e9c46a\",\"#DFC27D\",\"#BF812D\",\"#8C510A\",\"#543005\"]\n",
    "palette_cmap = [\"#DFC27D\",\"#e9c46a\",\"#DA9B47\",\"#00847A\",\"#01665E\",\"#254441\"]"
   ]
  }
 ],
 "metadata": {
  "kernelspec": {
   "display_name": "base",
   "language": "python",
   "name": "python3"
  },
  "language_info": {
   "codemirror_mode": {
    "name": "ipython",
    "version": 3
   },
   "file_extension": ".py",
   "mimetype": "text/x-python",
   "name": "python",
   "nbconvert_exporter": "python",
   "pygments_lexer": "ipython3",
   "version": "3.11.4"
  }
 },
 "nbformat": 4,
 "nbformat_minor": 5
}
